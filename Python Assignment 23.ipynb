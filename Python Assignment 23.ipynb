{
 "cells": [
  {
   "cell_type": "code",
   "execution_count": null,
   "id": "d3914017-f2b8-4232-8339-a45c8821913c",
   "metadata": {},
   "outputs": [],
   "source": [
    "#1. What is the result of the code, and why?\n",
    "\n",
    "#def func(a, b=6, c=8):print(a, b, c)\n",
    "\n",
    "#func(1, 2)\n",
    "\n",
    "Ans. The line func() takes two values, that is 1 and 2 respectively, but the func() is defined to take 3 values, as in func() we pass only two values, the third value comes from the default value, that is c = 8.\n",
    "\n"
   ]
  },
  {
   "cell_type": "code",
   "execution_count": 1,
   "id": "8884dda1-92c0-44d9-b60d-f9edd8123c44",
   "metadata": {},
   "outputs": [
    {
     "name": "stdout",
     "output_type": "stream",
     "text": [
      "1 2 8\n"
     ]
    }
   ],
   "source": [
    "def func(a, b=6, c=8): \n",
    "    print(a, b, c)\n",
    "func(1, 2)"
   ]
  },
  {
   "cell_type": "code",
   "execution_count": null,
   "id": "3c2a1565-6034-4fe8-af04-b2f07056c6ca",
   "metadata": {},
   "outputs": [],
   "source": [
    "#2. What is the result of this code, and why?\n",
    "\n",
    "#def func(a, b, c=5):print(a, b, c)\n",
    "\n",
    "#func(1, c=3, b=2)\n",
    "\n",
    "Ans. The line func() takes three values, that is 1 , c= 3 snd b = 2 respectively,the func() is defined to take 3 values, as in func() we pass othree values, the default values gets overwritten, and we get the newly passed values.\n",
    "\n"
   ]
  },
  {
   "cell_type": "code",
   "execution_count": 2,
   "id": "e1542b6c-4222-49c4-88ec-e8cca8930e8f",
   "metadata": {},
   "outputs": [
    {
     "name": "stdout",
     "output_type": "stream",
     "text": [
      "1 2 3\n"
     ]
    }
   ],
   "source": [
    "def func(a, b, c=5):\n",
    "    print(a, b, c)\n",
    "func(1, c=3, b=2)"
   ]
  },
  {
   "cell_type": "code",
   "execution_count": null,
   "id": "b24e65ae-cb7a-4b2e-bc30-5b78e1e9e21e",
   "metadata": {},
   "outputs": [],
   "source": [
    "#3. How about this code: what is its result, and why?\n",
    "\n",
    "#def func(a, *pargs):print(a, pargs)\n",
    "\n",
    "#func(1, 2, 3)\n",
    "\n",
    "\n",
    "Ans. The special syntax pargs in function definitions in python is used to pass a variable number of arguments to a function. \n",
    "It is used to pass a non-key worded, variable-length argument list. The syntax is to use the symbol to take in a variable number of arguments; by convention, it is often used with the word args.\n",
    "\n",
    "What pargs allows you to do is take in more arguments than the number of formal arguments that you previously defined. \n",
    "With pargs, any number of extra arguments can be tacked on to your current formal parameters (including zero extra arguments)."
   ]
  },
  {
   "cell_type": "code",
   "execution_count": 3,
   "id": "88dc99b8-eb4a-4059-ba51-5008da423b98",
   "metadata": {},
   "outputs": [
    {
     "name": "stdout",
     "output_type": "stream",
     "text": [
      "1 (2, 3)\n"
     ]
    }
   ],
   "source": [
    "def func(a, *pargs):\n",
    "    print(a, pargs)\n",
    "func(1, 2, 3)"
   ]
  },
  {
   "cell_type": "code",
   "execution_count": null,
   "id": "c057cc5c-6f71-47c5-9a7d-b824284b5e02",
   "metadata": {},
   "outputs": [],
   "source": [
    "#4. What does this code print, and why?\n",
    "\n",
    "#def func(a, **kargs):print(a, kargs)\n",
    "\n",
    "#func(a=1, c=3, b=2)\n",
    "\n",
    "\n",
    "Ans. The special syntax **kargs in function definitions in python is used to pass a keyworded, variable-length argument list. \n",
    "We use the name kwargs with the double star. The reason is because the double star allows us to pass through keyword arguments (and any number of them)."
   ]
  },
  {
   "cell_type": "code",
   "execution_count": null,
   "id": "3d21c657-5d93-42d3-b7f7-7b47423200d6",
   "metadata": {},
   "outputs": [],
   "source": []
  },
  {
   "cell_type": "code",
   "execution_count": null,
   "id": "e66d72bd-9095-4468-8c00-b1142b4aaa76",
   "metadata": {},
   "outputs": [],
   "source": []
  },
  {
   "cell_type": "code",
   "execution_count": null,
   "id": "569311cb-1e69-4198-8c25-40513173b384",
   "metadata": {},
   "outputs": [],
   "source": []
  },
  {
   "cell_type": "code",
   "execution_count": null,
   "id": "d6fc7829-bcbd-472a-9c35-01393d9f9c7e",
   "metadata": {},
   "outputs": [],
   "source": []
  },
  {
   "cell_type": "code",
   "execution_count": null,
   "id": "d3a20492-9589-4b04-8536-afde14a97dc5",
   "metadata": {},
   "outputs": [],
   "source": []
  }
 ],
 "metadata": {
  "kernelspec": {
   "display_name": "Python 3 (ipykernel)",
   "language": "python",
   "name": "python3"
  },
  "language_info": {
   "codemirror_mode": {
    "name": "ipython",
    "version": 3
   },
   "file_extension": ".py",
   "mimetype": "text/x-python",
   "name": "python",
   "nbconvert_exporter": "python",
   "pygments_lexer": "ipython3",
   "version": "3.10.6"
  }
 },
 "nbformat": 4,
 "nbformat_minor": 5
}
